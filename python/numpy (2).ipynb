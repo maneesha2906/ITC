{
 "cells": [
  {
   "cell_type": "code",
   "execution_count": 1,
   "metadata": {},
   "outputs": [
    {
     "name": "stdout",
     "output_type": "stream",
     "text": [
      "Requirement already satisfied: Numpy in c:\\users\\dhara\\appdata\\local\\programs\\python\\python313\\lib\\site-packages (2.2.2)\n",
      "Note: you may need to restart the kernel to use updated packages.\n"
     ]
    },
    {
     "name": "stderr",
     "output_type": "stream",
     "text": [
      "\n",
      "[notice] A new release of pip is available: 24.3.1 -> 25.0\n",
      "[notice] To update, run: python.exe -m pip install --upgrade pip\n"
     ]
    }
   ],
   "source": [
    "pip install Numpy"
   ]
  },
  {
   "cell_type": "markdown",
   "metadata": {},
   "source": [
    "Type of Array:"
   ]
  },
  {
   "cell_type": "code",
   "execution_count": 72,
   "metadata": {},
   "outputs": [
    {
     "name": "stdout",
     "output_type": "stream",
     "text": [
      "array: [1 2 3 4 5]\n",
      "shape: (5,)\n"
     ]
    }
   ],
   "source": [
    "import numpy as np\n",
    "oneD=np.array([1,2,3,4,5])\n",
    "print(\"array:\", oneD)\n",
    "print(\"shape:\", oneD.shape)"
   ]
  },
  {
   "cell_type": "code",
   "execution_count": 3,
   "metadata": {},
   "outputs": [
    {
     "name": "stdout",
     "output_type": "stream",
     "text": [
      "array:\n",
      " [[1 2 3]\n",
      " [4 5 6]\n",
      " [7 8 9]]\n",
      "shape: (3, 3)\n"
     ]
    }
   ],
   "source": [
    "twoD=np.array([[1,2,3],[4,5,6],[7,8,9]])\n",
    "print(\"array:\\n\",twoD)\n",
    "print(\"shape:\", twoD.shape)\n"
   ]
  },
  {
   "cell_type": "code",
   "execution_count": 4,
   "metadata": {},
   "outputs": [
    {
     "name": "stdout",
     "output_type": "stream",
     "text": [
      "array:\n",
      " [[[1 2]\n",
      "  [3 4]]\n",
      "\n",
      " [[5 6]\n",
      "  [7 8]]]\n",
      "shape: (2, 2, 2)\n"
     ]
    }
   ],
   "source": [
    "# Shape: (2,2,2) (2 blocks, 2 rows, 2 columns)\n",
    "threeD=np.array([[[1,2],[3,4]],[[5,6],[7,8]]])\n",
    "print(\"array:\\n\",threeD)\n",
    "print(\"shape:\",threeD.shape)"
   ]
  },
  {
   "cell_type": "markdown",
   "metadata": {},
   "source": [
    "1.1 Array Creation"
   ]
  },
  {
   "cell_type": "markdown",
   "metadata": {},
   "source": [
    "Creating an Array from a List"
   ]
  },
  {
   "cell_type": "code",
   "execution_count": 7,
   "metadata": {},
   "outputs": [
    {
     "name": "stdout",
     "output_type": "stream",
     "text": [
      "[1 2 3 4 5]\n"
     ]
    }
   ],
   "source": [
    "# A NumPy array can be created directly from a Python list using np.array()\n",
    "list_data=[1,2,3,4,5]\n",
    "array_frm_lst=np.array(list_data)\n",
    "print(array_frm_lst)"
   ]
  },
  {
   "cell_type": "markdown",
   "metadata": {},
   "source": [
    "Creating an Array from a Tuple"
   ]
  },
  {
   "cell_type": "code",
   "execution_count": 8,
   "metadata": {},
   "outputs": [
    {
     "name": "stdout",
     "output_type": "stream",
     "text": [
      "[1 2 3 4 5]\n"
     ]
    }
   ],
   "source": [
    "tuple_data=(1,2,3,4,5)\n",
    "array_frm_tpl=np.array(tuple_data)\n",
    "print(array_frm_tpl)\n"
   ]
  },
  {
   "cell_type": "markdown",
   "metadata": {},
   "source": [
    "Creating an Array from Another Array"
   ]
  },
  {
   "cell_type": "code",
   "execution_count": 13,
   "metadata": {},
   "outputs": [
    {
     "name": "stdout",
     "output_type": "stream",
     "text": [
      "[1 2 3 4 5]\n",
      "Using copy method: [1 2 3 4 5]\n"
     ]
    }
   ],
   "source": [
    "source_array=np.array([1,2,3,4,5])\n",
    "#to creates a seprate copy\n",
    "new_array=np.array(source_array) \n",
    "print(new_array)\n",
    "\n",
    "# .copy() method to explicitly copy an array\n",
    "copy_array=source_array.copy()\n",
    "print(\"Using copy method:\", copy_array)"
   ]
  },
  {
   "cell_type": "markdown",
   "metadata": {},
   "source": [
    "Creating Array using arange() -- \n",
    "np.arange(start, stop, step)\n",
    "start: The beginning value (default is 0).\n",
    "stop: The end value (exclusive).\n",
    "step: The gap between numbers.\n"
   ]
  },
  {
   "cell_type": "code",
   "execution_count": 31,
   "metadata": {},
   "outputs": [
    {
     "name": "stdout",
     "output_type": "stream",
     "text": [
      "[1 3 5 7 9]\n"
     ]
    }
   ],
   "source": [
    "range_array=np.arange(1,11,2) #(start,upto,step)\n",
    "print(range_array)"
   ]
  },
  {
   "cell_type": "markdown",
   "metadata": {},
   "source": [
    "Creating an Array using linspace() --\n",
    "np.linspace(start,stop,num)\n",
    "start: The beginning value.\n",
    "stop: The end value (included by default).\n",
    "num: The total number of values to generate.\n",
    "\n"
   ]
  },
  {
   "cell_type": "code",
   "execution_count": 16,
   "metadata": {},
   "outputs": [
    {
     "name": "stdout",
     "output_type": "stream",
     "text": [
      "[0.   1.25 2.5  3.75 5.  ]\n"
     ]
    }
   ],
   "source": [
    "# The linspace() function generates an array with evenly spaced values between a start and stop point.\n",
    "linspace_array=np.linspace(0,5,5) # 5 values between 0 and 5\n",
    "print(linspace_array)"
   ]
  },
  {
   "cell_type": "markdown",
   "metadata": {},
   "source": [
    "Creating an Arrau using Randon Values"
   ]
  },
  {
   "cell_type": "code",
   "execution_count": 19,
   "metadata": {},
   "outputs": [
    {
     "name": "stdout",
     "output_type": "stream",
     "text": [
      "[[0.89157645 0.52474014 0.96551488]\n",
      " [0.89779679 0.67519095 0.80581977]\n",
      " [0.65794713 0.70745339 0.25350873]]\n",
      "integer Randon Array [[3 3 3]\n",
      " [2 4 1]\n",
      " [3 3 3]]\n"
     ]
    }
   ],
   "source": [
    "random_array=np.random.rand(3,3) \n",
    "#rand will generate floting-point numbers\n",
    "print(random_array)\n",
    "\n",
    "random_array=np.random.randint(0,5,(3,3))\n",
    "print(\"integer Randon Array\", random_array)"
   ]
  },
  {
   "cell_type": "markdown",
   "metadata": {},
   "source": [
    "Creating an array from a file"
   ]
  },
  {
   "cell_type": "code",
   "execution_count": 24,
   "metadata": {},
   "outputs": [
    {
     "name": "stdout",
     "output_type": "stream",
     "text": [
      "[ 1.1  2.1  3.1  4.1  5.1  6.1  7.1  8.1  9.1 10.1]\n",
      "Array in INT formt: [ 1  2  3  4  5  6  7  8  9 10]\n"
     ]
    }
   ],
   "source": [
    "# numpy can also create arrays from external files - CSV or text\n",
    "file_array=np.loadtxt(\"D:/python_practical/numbertext.txt\")\n",
    "print(file_array)\n",
    "\n",
    "int_array=file_array.astype(int)\n",
    "print(\"Array in INT formt:\", int_array)"
   ]
  },
  {
   "cell_type": "markdown",
   "metadata": {},
   "source": [
    "Creating Special Arrays (zero, one, identity)"
   ]
  },
  {
   "cell_type": "code",
   "execution_count": 30,
   "metadata": {},
   "outputs": [
    {
     "name": "stdout",
     "output_type": "stream",
     "text": [
      "Zeros Array: [[0. 0. 0.]\n",
      " [0. 0. 0.]\n",
      " [0. 0. 0.]]\n",
      "Ones Array: [[1. 1. 1. 1. 1.]\n",
      " [1. 1. 1. 1. 1.]]\n",
      "Identity Matrix: [[1. 0. 0.]\n",
      " [0. 1. 0.]\n",
      " [0. 0. 1.]]\n"
     ]
    }
   ],
   "source": [
    "#np.zeros(shape)\n",
    "#np.ones(shape)\n",
    "#np.eye(size)\n",
    "# np.zeros() and np.ones() expects the shape as a tuple (3,3), not separate arguments\n",
    "zero_array=np.zeros((3,3))\n",
    "print(\"Zeros Array:\",zero_array)\n",
    "one_array=np.ones((2,5))\n",
    "print(\"Ones Array:\",one_array)\n",
    "identity_matrix=np.eye(3)\n",
    "print(\"Identity Matrix:\",identity_matrix)\n"
   ]
  },
  {
   "cell_type": "markdown",
   "metadata": {},
   "source": [
    "1.2 Array Indexing and Slicing in Numpy"
   ]
  },
  {
   "cell_type": "markdown",
   "metadata": {},
   "source": [
    "1.2.1 Indexing - Accessing Elements"
   ]
  },
  {
   "cell_type": "code",
   "execution_count": 73,
   "metadata": {},
   "outputs": [
    {
     "name": "stdout",
     "output_type": "stream",
     "text": [
      "1\n",
      "3\n",
      "5\n"
     ]
    }
   ],
   "source": [
    "# 1D array indexing\n",
    "array=np.array([1,2,3,4,5])\n",
    "print(array[0]) # 1st element\n",
    "print(array[2]) # 3rd element\n",
    "print(array[-1]) # last element"
   ]
  },
  {
   "cell_type": "code",
   "execution_count": 49,
   "metadata": {},
   "outputs": [
    {
     "name": "stdout",
     "output_type": "stream",
     "text": [
      "2d matrix: [[1 1 1]\n",
      " [1 2 2]\n",
      " [1 1 1]]\n",
      "[2 2 1]\n",
      "1\n",
      "2\n",
      "1\n"
     ]
    }
   ],
   "source": [
    "twoDarray=np.random.randint(1,3,(3,3))\n",
    "print(\"2d matrix:\", array)\n",
    "print(twoDarray[0])\n",
    "print(twoDarray[1,2]) # element at row index 1, column index 2\n",
    "print(twoDarray[0,0]) # 1st element\n",
    "print(twoDarray[-1,-1]) # last element"
   ]
  },
  {
   "cell_type": "code",
   "execution_count": 52,
   "metadata": {},
   "outputs": [
    {
     "name": "stdout",
     "output_type": "stream",
     "text": [
      "(2, 2, 3)\n",
      "6\n"
     ]
    }
   ],
   "source": [
    "threeDarray = np.array([[[1, 2, 3], [4, 5, 6]], \n",
    "                   [[7, 8, 9], [10, 11, 12]]])\n",
    "print(threeDarray.shape)\n",
    "print(threeDarray[0,1,2]) # 1st dept, 2nd row, 3rd column\n"
   ]
  },
  {
   "cell_type": "markdown",
   "metadata": {},
   "source": [
    "1.2.2 Slicing Array - to extracting parts of array\n"
   ]
  },
  {
   "cell_type": "markdown",
   "metadata": {},
   "source": [
    "array[start:stop:step] \n",
    "start: Start index (default = 0).\n",
    "stop: Stop index (exclusive).\n",
    "step: Step size (default = 1).\n"
   ]
  },
  {
   "cell_type": "code",
   "execution_count": 53,
   "metadata": {},
   "outputs": [
    {
     "name": "stdout",
     "output_type": "stream",
     "text": [
      "[2 3 4]\n",
      "[1 2 3]\n",
      "[4 5]\n",
      "[1 3 5]\n",
      "[5 4 3 2 1]\n"
     ]
    }
   ],
   "source": [
    "#1D array slicing\n",
    "array=np.array([1,2,3,4,5])\n",
    "print(array[1:4]) # elements from index 1 to 3\n",
    "print(array[:3]) # upto 2\n",
    "print(array[3:])# from 3 to end\n",
    "print(array[::2])# every 2nd element\n",
    "print(array[::-1])# reverse"
   ]
  },
  {
   "cell_type": "code",
   "execution_count": 57,
   "metadata": {},
   "outputs": [
    {
     "name": "stdout",
     "output_type": "stream",
     "text": [
      "[[2 3]\n",
      " [5 6]]\n",
      "[1 4 7]\n",
      "[1 2 3]\n",
      "[[9 8 7]\n",
      " [6 5 4]\n",
      " [3 2 1]]\n",
      "[[7 8 9]\n",
      " [4 5 6]\n",
      " [1 2 3]]\n",
      "[[3 2 1]\n",
      " [6 5 4]\n",
      " [9 8 7]]\n"
     ]
    }
   ],
   "source": [
    "#2D array slicing -- slice rows & columns seperately\n",
    "twoarray=np.array([[1, 2, 3], \n",
    "                   [4, 5, 6], \n",
    "                   [7, 8, 9]])\n",
    "print(twoarray[:2,1:])# first 2 rows, column from index 1 onwards\n",
    "print(twoarray[:,0]) # first column\n",
    "print(twoarray[0,:])# first row\n",
    "print(twoarray[::-1,::-1]) # reverse the matrix\n",
    "print(twoarray[::-1,])#reverse the row\n",
    "print(twoarray[:,::-1])#reverse the column"
   ]
  },
  {
   "cell_type": "code",
   "execution_count": 59,
   "metadata": {},
   "outputs": [
    {
     "name": "stdout",
     "output_type": "stream",
     "text": [
      "[[[ 1  2  3]\n",
      "  [ 4  5  6]\n",
      "  [ 7  8  9]]\n",
      "\n",
      " [[10 11 12]\n",
      "  [13 14 15]\n",
      "  [16 17 18]]]\n",
      "[4 5 6]\n",
      "[[[1 2 3]\n",
      "  [4 5 6]\n",
      "  [7 8 9]]]\n",
      "[[[ 2  3]\n",
      "  [ 5  6]]\n",
      "\n",
      " [[11 12]\n",
      "  [14 15]]]\n"
     ]
    }
   ],
   "source": [
    "#3d slicing array -- array[depth_start:depth_stop, row_start:row_stop, col_start:col_stop]\n",
    "threeDarray=np.array([[[1, 2, 3], [4, 5, 6], [7, 8, 9]], \n",
    "                      [[10, 11, 12], [13, 14, 15], [16, 17, 18]]])\n",
    "print(threeDarray)\n",
    "print(threeDarray[0,1,:])#1st depth, 2nd row, all column\n",
    "print(threeDarray[:1,:,:])#frist depth, all rows, all columns\n",
    "print(threeDarray[:,0:2,1:3])#both depth, 1st and 2nd row, 2nd and 3rd column"
   ]
  },
  {
   "cell_type": "markdown",
   "metadata": {},
   "source": [
    "Boolean Indexing - retrieve elements bsed on a condition"
   ]
  },
  {
   "cell_type": "code",
   "execution_count": 60,
   "metadata": {},
   "outputs": [
    {
     "name": "stdout",
     "output_type": "stream",
     "text": [
      "[3 4 5]\n"
     ]
    }
   ],
   "source": [
    "arr=np.array([1,2,3,4,5])\n",
    "print(arr[arr>2]) "
   ]
  },
  {
   "cell_type": "markdown",
   "metadata": {},
   "source": [
    "1.3 Array Operations"
   ]
  },
  {
   "cell_type": "markdown",
   "metadata": {},
   "source": [
    "1.3.1 Basic Mathematical Operations -- NumPy allows performing arithmetic operations directly on arrays"
   ]
  },
  {
   "cell_type": "code",
   "execution_count": 67,
   "metadata": {},
   "outputs": [
    {
     "name": "stdout",
     "output_type": "stream",
     "text": [
      "[11 22 33 44 55]\n",
      "[ 9 18 27 36 45]\n",
      "[ 10  40  90 160 250]\n",
      "[0.1 0.1 0.1 0.1 0.1]\n",
      "[ 6  7  8  9 10]\n",
      "[ 5 10 15 20 25]\n"
     ]
    }
   ],
   "source": [
    "#using direct operation\n",
    "a=np.array([1,2,3,4,5])\n",
    "b=np.array([10,20,30,40,50])\n",
    "\n",
    "print(a+b)\n",
    "print(b-a)\n",
    "print(a*b)\n",
    "print(a/b)\n",
    "\n",
    "# Scalar Operations\n",
    "print(a+5)\n",
    "print(a*5)"
   ]
  },
  {
   "cell_type": "code",
   "execution_count": 74,
   "metadata": {},
   "outputs": [
    {
     "name": "stdout",
     "output_type": "stream",
     "text": [
      "[11 22 33 44 55]\n"
     ]
    }
   ],
   "source": [
    "#using function\n",
    "a=np.array([1,2,3,4,5])\n",
    "b=np.array([10,20,30,40,50])\n",
    "c=np.add(a,b)\n",
    "print(c)"
   ]
  },
  {
   "cell_type": "markdown",
   "metadata": {},
   "source": [
    "1.3.2 Element-wise Operations "
   ]
  },
  {
   "cell_type": "code",
   "execution_count": 68,
   "metadata": {},
   "outputs": [
    {
     "name": "stdout",
     "output_type": "stream",
     "text": [
      "[ 1  4  9 16 25]\n",
      "[1 2 0 1 2]\n",
      "[0 0 1 1 1]\n"
     ]
    }
   ],
   "source": [
    "print(a**2) #square each element\n",
    "print(a%3) #Modulus operation\n",
    "print(a//3) #floor division "
   ]
  },
  {
   "cell_type": "code",
   "execution_count": 69,
   "metadata": {},
   "outputs": [
    {
     "name": "stdout",
     "output_type": "stream",
     "text": [
      "[1.         1.41421356 1.73205081 2.         2.23606798]\n",
      "[  2.71828183   7.3890561   20.08553692  54.59815003 148.4131591 ]\n",
      "[0.         0.69314718 1.09861229 1.38629436 1.60943791]\n",
      "[ 0.84147098  0.90929743  0.14112001 -0.7568025  -0.95892427]\n",
      "[ 0.54030231 -0.41614684 -0.9899925  -0.65364362  0.28366219]\n"
     ]
    }
   ],
   "source": [
    "# Universal Fuctions (ufunc)\n",
    "print(np.sqrt(a)) #square root\n",
    "print(np.exp(a)) #exponential (e^x)\n",
    "print(np.log(a)) #Logaritham\n",
    "print(np.sin(a)) #sine fun\n",
    "print(np.cos(a)) #cos"
   ]
  },
  {
   "cell_type": "markdown",
   "metadata": {},
   "source": [
    "1.3.3 Aggregation Functions -- summarize data accross an array"
   ]
  },
  {
   "cell_type": "code",
   "execution_count": 70,
   "metadata": {},
   "outputs": [
    {
     "name": "stdout",
     "output_type": "stream",
     "text": [
      "15\n",
      "3.0\n",
      "3.0\n",
      "1\n",
      "5\n"
     ]
    }
   ],
   "source": [
    "print(np.sum(a)) # sum of all elements\n",
    "print(np.mean(a))\n",
    "print(np.median(a))\n",
    "print(np.min(a))\n",
    "print(np.max(a))"
   ]
  },
  {
   "cell_type": "code",
   "execution_count": 71,
   "metadata": {},
   "outputs": [
    {
     "name": "stdout",
     "output_type": "stream",
     "text": [
      "[12 15 18]\n"
     ]
    }
   ],
   "source": [
    "# aggregations in multi-D arrays or specific axes\n",
    "matrix=np.array([[1,2,3],[4,5,6],[7,8,9]])\n",
    "print(np.sum(matrix, axis=0)) # sum of all columns\n",
    "print(np.sum(matrix, axis=1)) # sum of all rows\n"
   ]
  },
  {
   "cell_type": "markdown",
   "metadata": {},
   "source": [
    "1.3.4 Brodcating (operation with different shapes)"
   ]
  },
  {
   "cell_type": "code",
   "execution_count": 76,
   "metadata": {},
   "outputs": [
    {
     "name": "stdout",
     "output_type": "stream",
     "text": [
      "[[11 12 13]\n",
      " [14 15 16]]\n"
     ]
    }
   ],
   "source": [
    "#same size arrays\n",
    "array=np.array([[1,2,3],[4,5,6]])\n",
    "print(array+10) # adds 10 to each element"
   ]
  },
  {
   "cell_type": "code",
   "execution_count": 77,
   "metadata": {},
   "outputs": [
    {
     "name": "stdout",
     "output_type": "stream",
     "text": [
      "[[11 21 31]\n",
      " [12 22 32]\n",
      " [13 23 33]]\n"
     ]
    }
   ],
   "source": [
    "#brodcating with different arrays:\n",
    "arr1=np.array([[1],[2],[3]]) #shape(3,1)\n",
    "arr2=np.array([10,20,30]) #shape(3,)\n",
    "print(arr1+arr2)\n",
    "# The broadcasting rules are:\n",
    "# 1.If the two arrays have different dimensions, NumPy automatically expands the smaller array’s shape.\n",
    "#2.If a dimension has size 1, NumPy duplicates its values along that dimension to match the larger array.\n"
   ]
  },
  {
   "cell_type": "markdown",
   "metadata": {},
   "source": [
    "1.3.5 Boolean Operations"
   ]
  },
  {
   "cell_type": "code",
   "execution_count": 78,
   "metadata": {},
   "outputs": [
    {
     "name": "stdout",
     "output_type": "stream",
     "text": [
      "[False False False  True  True]\n",
      "[4 5]\n"
     ]
    }
   ],
   "source": [
    "arr = np.array([1, 2, 3, 4, 5])\n",
    "print(arr > 3)  # Boolean array\n",
    "print(arr[arr > 3])  # Filter elements greater than 3"
   ]
  },
  {
   "cell_type": "markdown",
   "metadata": {},
   "source": [
    "1.4 Array Manipulations"
   ]
  },
  {
   "cell_type": "markdown",
   "metadata": {},
   "source": [
    "1.4.1 Changing shape of an array"
   ]
  },
  {
   "cell_type": "code",
   "execution_count": 81,
   "metadata": {},
   "outputs": [
    {
     "name": "stdout",
     "output_type": "stream",
     "text": [
      "[[1 2 3]\n",
      " [4 5 6]]\n",
      "[[1 2]\n",
      " [3 4]\n",
      " [5 6]]\n"
     ]
    }
   ],
   "source": [
    "#reshape()--function allows us to change the shape of an array without modifying its data\n",
    "arr = np.array([1, 2, 3, 4, 5, 6])\n",
    "reshaped_arr = arr.reshape(2, 3)  # Convert from (6,) to (2,3)\n",
    "print(reshaped_arr)\n",
    "arr = arr.reshape(3, -1)\n",
    "print(arr)"
   ]
  },
  {
   "cell_type": "code",
   "execution_count": 82,
   "metadata": {},
   "outputs": [
    {
     "name": "stdout",
     "output_type": "stream",
     "text": [
      "[1 2 3 4 5 6]\n"
     ]
    }
   ],
   "source": [
    "# ravel() - Flatteninf an array\n",
    "# Converts a multi-dimensional array into a 1D array.\n",
    "arr = np.array([[1, 2, 3], [4, 5, 6]])\n",
    "flattened = arr.ravel()\n",
    "print(flattened)"
   ]
  },
  {
   "cell_type": "code",
   "execution_count": 83,
   "metadata": {},
   "outputs": [
    {
     "name": "stdout",
     "output_type": "stream",
     "text": [
      "[[1 4]\n",
      " [2 5]\n",
      " [3 6]]\n"
     ]
    }
   ],
   "source": [
    "# transpose() – Swap Axes of an Array\n",
    "transposed = arr.T\n",
    "print(transposed)"
   ]
  },
  {
   "cell_type": "code",
   "execution_count": 87,
   "metadata": {},
   "outputs": [
    {
     "name": "stdout",
     "output_type": "stream",
     "text": [
      "[[[1 2]\n",
      "  [3 4]]\n",
      "\n",
      " [[5 6]\n",
      "  [7 8]]]\n",
      "[[[1 2]\n",
      "  [5 6]]\n",
      "\n",
      " [[3 4]\n",
      "  [7 8]]]\n",
      "(2, 2, 2)\n"
     ]
    }
   ],
   "source": [
    "# swapaxes() – Swap Any Two Axes\n",
    "arr = np.array([[[1, 2], [3, 4]], [[5, 6], [7, 8]]])  # Shape (2,2,2)\n",
    "print(arr)\n",
    "swapped = arr.swapaxes(0, 1)\n",
    "print(swapped)\n",
    "print(swapped.shape)  # (2,2,2) → (2,2,2) (axes 0 & 1 swapped)"
   ]
  },
  {
   "cell_type": "markdown",
   "metadata": {},
   "source": [
    "1.4.2 Changing size of an array"
   ]
  },
  {
   "cell_type": "code",
   "execution_count": 88,
   "metadata": {},
   "outputs": [
    {
     "name": "stdout",
     "output_type": "stream",
     "text": [
      "[[1 2 3 4]\n",
      " [5 6 0 0]]\n"
     ]
    }
   ],
   "source": [
    "# resize() – Change Size with Possible Data Loss\n",
    "arr = np.array([1, 2, 3, 4, 5, 6])\n",
    "arr.resize((2, 4))  # Expands the shape, fills extra values with 0\n",
    "print(arr)"
   ]
  },
  {
   "cell_type": "code",
   "execution_count": 89,
   "metadata": {},
   "outputs": [
    {
     "name": "stdout",
     "output_type": "stream",
     "text": [
      "(1, 3)\n"
     ]
    }
   ],
   "source": [
    "# expand_dims() – Add an Extra Dimension\n",
    "arr = np.array([1, 2, 3])\n",
    "expanded = np.expand_dims(arr, axis=0)  # Convert (3,) → (1, 3)\n",
    "print(expanded.shape)  # Output: (1,3)"
   ]
  },
  {
   "cell_type": "code",
   "execution_count": 90,
   "metadata": {},
   "outputs": [
    {
     "name": "stdout",
     "output_type": "stream",
     "text": [
      "(3,)\n"
     ]
    }
   ],
   "source": [
    "# squeeze() – Remove Extra Dimensions\n",
    "arr = np.array([[[1, 2, 3]]])  # Shape (1,1,3)\n",
    "squeezed = arr.squeeze()\n",
    "print(squeezed.shape) "
   ]
  },
  {
   "cell_type": "markdown",
   "metadata": {},
   "source": [
    "1.4.3 Changing Data types of an Array"
   ]
  },
  {
   "cell_type": "code",
   "execution_count": 99,
   "metadata": {},
   "outputs": [
    {
     "name": "stdout",
     "output_type": "stream",
     "text": [
      "[[1 2 5 6]]\n",
      "[[1 2]\n",
      " [5 6]]\n"
     ]
    }
   ],
   "source": [
    "# concatenate() – Join Arrays Along an Axis\n",
    "a = np.array([[1, 2]])\n",
    "b = np.array([[5, 6]])\n",
    "Colcon = np.concatenate((a, b), axis=1)\n",
    "print(Colcon)\n",
    "rowcon = np.concatenate((a, b), axis=0)\n",
    "print(rowcon)"
   ]
  },
  {
   "cell_type": "code",
   "execution_count": 100,
   "metadata": {},
   "outputs": [
    {
     "name": "stdout",
     "output_type": "stream",
     "text": [
      "[array([1, 2]), array([3, 4]), array([5, 6])]\n"
     ]
    }
   ],
   "source": [
    "# split() – Split an Array into Multiple Arrays\n",
    "arr = np.array([1, 2, 3, 4, 5, 6])\n",
    "split_arr = np.split(arr, 3)\n",
    "print(split_arr)"
   ]
  },
  {
   "cell_type": "markdown",
   "metadata": {},
   "source": [
    "1.5 Loading and Saving Data to files using NumPy"
   ]
  },
  {
   "cell_type": "code",
   "execution_count": 103,
   "metadata": {},
   "outputs": [],
   "source": [
    "#Save as a Binary File (.npy)\n",
    "import numpy as np\n",
    "arr = np.array([1, 2, 3, 4, 5])\n",
    "np.save(\"D:/python_practical/data.npy\", arr)  # Saves as a binary file"
   ]
  },
  {
   "cell_type": "code",
   "execution_count": 112,
   "metadata": {},
   "outputs": [
    {
     "name": "stdout",
     "output_type": "stream",
     "text": [
      "[1 2 3 4 5]\n"
     ]
    }
   ],
   "source": [
    "# Load from a Binary File (.npy)\n",
    "arr = np.load(\"D:/python_practical/data.npy\")\n",
    "print(arr)"
   ]
  },
  {
   "cell_type": "code",
   "execution_count": 104,
   "metadata": {},
   "outputs": [],
   "source": [
    "# Save Multiple Arrays in One File (.npz)\n",
    "arr1 = np.array([1, 2, 3])\n",
    "arr2 = np.array([10, 20, 30])\n",
    "np.savez(\"D:/python_practical/multiple_arrays.npz\", a=arr1, b=arr2)"
   ]
  },
  {
   "cell_type": "code",
   "execution_count": 113,
   "metadata": {},
   "outputs": [
    {
     "name": "stdout",
     "output_type": "stream",
     "text": [
      "[1 2 3]\n",
      "[10 20 30]\n"
     ]
    }
   ],
   "source": [
    "#  Load Multiple Arrays (.npz)\n",
    "data = np.load(\"D:/python_practical/multiple_arrays.npz\")\n",
    "print(data[\"a\"])  # Access stored arrays\n",
    "print(data[\"b\"])"
   ]
  },
  {
   "cell_type": "code",
   "execution_count": 107,
   "metadata": {},
   "outputs": [],
   "source": [
    "# Save as a Text File (.txt or .csv)\n",
    "arr = np.array([[1, 2, 3], [4, 5, 6]])\n",
    "np.savetxt(\"D:/python_practical/datatext.txt\", arr, delimiter=\",\")  # Saves as CSV"
   ]
  },
  {
   "cell_type": "code",
   "execution_count": 114,
   "metadata": {},
   "outputs": [
    {
     "name": "stdout",
     "output_type": "stream",
     "text": [
      "[[1. 2. 3.]\n",
      " [4. 5. 6.]]\n"
     ]
    }
   ],
   "source": [
    "# Load from a Text File (.txt or .csv)\n",
    "arr = np.loadtxt(\"D:/python_practical/datatext.txt\", delimiter=\",\")\n",
    "print(arr)"
   ]
  }
 ],
 "metadata": {
  "kernelspec": {
   "display_name": "Python 3",
   "language": "python",
   "name": "python3"
  },
  "language_info": {
   "codemirror_mode": {
    "name": "ipython",
    "version": 3
   },
   "file_extension": ".py",
   "mimetype": "text/x-python",
   "name": "python",
   "nbconvert_exporter": "python",
   "pygments_lexer": "ipython3",
   "version": "3.13.1"
  }
 },
 "nbformat": 4,
 "nbformat_minor": 2
}
