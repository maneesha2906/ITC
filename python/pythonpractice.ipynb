{
 "cells": [
  {
   "cell_type": "code",
   "execution_count": 1,
   "metadata": {},
   "outputs": [
    {
     "data": {
      "text/plain": [
       "4"
      ]
     },
     "execution_count": 1,
     "metadata": {},
     "output_type": "execute_result"
    }
   ],
   "source": [
    "1+3\n"
   ]
  },
  {
   "cell_type": "code",
   "execution_count": 2,
   "metadata": {},
   "outputs": [
    {
     "name": "stdout",
     "output_type": "stream",
     "text": [
      "weather is hot\n"
     ]
    }
   ],
   "source": [
    "x = int (input(\"please enter an integer :\"))\n",
    "if x>0:\n",
    "    print(\"weather is hot\")\n",
    "elif x==0:\n",
    "    print(\"weather is good to go\")\n",
    "\n",
    "elif x<0:\n",
    "    print(\"weather is too cold\")\n"
   ]
  },
  {
   "cell_type": "code",
   "execution_count": 3,
   "metadata": {},
   "outputs": [
    {
     "name": "stdout",
     "output_type": "stream",
     "text": [
      "ghf : 3\n",
      "gas : 3\n",
      "tgf : 3\n"
     ]
    }
   ],
   "source": [
    "words =[\"ghf\",\"gas\",\"tgf\"]\n",
    "for w in words:\n",
    "    print(w,':', len(w))\n"
   ]
  },
  {
   "cell_type": "code",
   "execution_count": 4,
   "metadata": {},
   "outputs": [
    {
     "name": "stdout",
     "output_type": "stream",
     "text": [
      "12.5625\n",
      "113.0625\n"
     ]
    },
    {
     "data": {
      "text/plain": [
       "12.56"
      ]
     },
     "execution_count": 4,
     "metadata": {},
     "output_type": "execute_result"
    }
   ],
   "source": [
    "tax = 12.5/100\n",
    "price =100.50\n",
    "x=price*tax\n",
    "print(x)\n",
    "print(price +x)\n",
    "round(x,2)"
   ]
  },
  {
   "cell_type": "code",
   "execution_count": 5,
   "metadata": {},
   "outputs": [
    {
     "name": "stdout",
     "output_type": "stream",
     "text": [
      "hello \n",
      "hai\n",
      "bye\n",
      "\n",
      "\n",
      "\n"
     ]
    }
   ],
   "source": [
    "print(\"\"\"\\\n",
    "hello \n",
    "hai\n",
    "bye\n",
    "\n",
    "\n",
    "\"\"\")"
   ]
  },
  {
   "cell_type": "code",
   "execution_count": 6,
   "metadata": {},
   "outputs": [
    {
     "name": "stdout",
     "output_type": "stream",
     "text": [
      "{'abc': 'active'}\n"
     ]
    }
   ],
   "source": [
    "users = {'abc':'active','cde':'inactive','fgh':'inactive'}\n",
    "for user, status in users.copy().items():\n",
    "    if status == 'inactive':\n",
    "        del users[user]\n",
    "print(users)\n"
   ]
  },
  {
   "cell_type": "code",
   "execution_count": 7,
   "metadata": {},
   "outputs": [
    {
     "name": "stdout",
     "output_type": "stream",
     "text": [
      "Requirement already satisfied: pandas in c:\\users\\rmane\\appdata\\local\\programs\\python\\python313\\lib\\site-packages (2.2.3)Note: you may need to restart the kernel to use updated packages.\n",
      "\n",
      "Requirement already satisfied: numpy>=1.26.0 in c:\\users\\rmane\\appdata\\local\\programs\\python\\python313\\lib\\site-packages (from pandas) (2.2.2)\n",
      "Requirement already satisfied: python-dateutil>=2.8.2 in c:\\users\\rmane\\appdata\\roaming\\python\\python313\\site-packages (from pandas) (2.9.0.post0)\n",
      "Requirement already satisfied: pytz>=2020.1 in c:\\users\\rmane\\appdata\\local\\programs\\python\\python313\\lib\\site-packages (from pandas) (2025.1)\n",
      "Requirement already satisfied: tzdata>=2022.7 in c:\\users\\rmane\\appdata\\local\\programs\\python\\python313\\lib\\site-packages (from pandas) (2025.1)\n",
      "Requirement already satisfied: six>=1.5 in c:\\users\\rmane\\appdata\\roaming\\python\\python313\\site-packages (from python-dateutil>=2.8.2->pandas) (1.17.0)\n"
     ]
    }
   ],
   "source": [
    "pip install pandas"
   ]
  },
  {
   "cell_type": "code",
   "execution_count": 8,
   "metadata": {},
   "outputs": [],
   "source": [
    "import pandas as pd"
   ]
  },
  {
   "cell_type": "code",
   "execution_count": 9,
   "metadata": {},
   "outputs": [
    {
     "name": "stdout",
     "output_type": "stream",
     "text": [
      "       Unnamed: 0        id       neighbourhood  latitude  longitude  \\\n",
      "0               0      2595             Midtown  40.75362  -73.98377   \n",
      "1               1      3831            Brooklyn  40.68514  -73.95976   \n",
      "2               2      5099           Manhattan  40.74767  -73.97500   \n",
      "3               3      5121  Bedford-Stuyvesant  40.68688  -73.95596   \n",
      "4               4      5178           Manhattan  40.76489  -73.98493   \n",
      "...           ...       ...                 ...       ...        ...   \n",
      "17609       35587  30561918            Brooklyn  40.64954  -74.00166   \n",
      "17610       35588  30561958     Lower East Side  40.72149  -73.98918   \n",
      "17611       35592  30562589            Brooklyn  40.64487  -73.94711   \n",
      "17612       35594  30565063            Bushwick  40.70279  -73.91347   \n",
      "17613       35596  30565284             Jamaica  40.65861  -73.73672   \n",
      "\n",
      "             room_type   price  days_occupied_in_2019  minimum_nights  \\\n",
      "0      Entire home/apt  225.00                   15.0              10   \n",
      "1      Entire home/apt   89.00                  188.0               1   \n",
      "2      Entire home/apt  200.00                  362.0               3   \n",
      "3         Private room   60.00                    0.0              29   \n",
      "4         Private room   79.00                  141.0               2   \n",
      "...                ...     ...                    ...             ...   \n",
      "17609     Private room   65.00                  192.0               2   \n",
      "17610  Entire home/apt   99.00                  353.0               1   \n",
      "17611  Entire home/apt   70.00                  351.0               1   \n",
      "17612     Private room   55.00                  333.0               2   \n",
      "17613  Entire home/apt  135.00                    8.0               1   \n",
      "\n",
      "       number_of_reviews  reviews_per_month  availability_2020  \n",
      "0                     48               0.39                  1  \n",
      "1                    295               4.67                  1  \n",
      "2                     78               0.60                 19  \n",
      "3                     49               0.38                365  \n",
      "4                    454               3.52                242  \n",
      "...                  ...                ...                ...  \n",
      "17609                  3               1.32                177  \n",
      "17610                  3               0.27                  0  \n",
      "17611                 23               1.91                  0  \n",
      "17612                  2               0.18                  0  \n",
      "17613                  6               0.52                 85  \n",
      "\n",
      "[17614 rows x 12 columns]\n"
     ]
    }
   ],
   "source": [
    "df = pd.read_csv(r\"C:\\Users\\rmane\\Downloads\\new_york.csv\")\n",
    "print(df)"
   ]
  },
  {
   "cell_type": "code",
   "execution_count": 10,
   "metadata": {},
   "outputs": [
    {
     "ename": "SyntaxError",
     "evalue": "unexpected character after line continuation character (3354318635.py, line 1)",
     "output_type": "error",
     "traceback": [
      "\u001b[1;36m  Cell \u001b[1;32mIn[10], line 1\u001b[1;36m\u001b[0m\n\u001b[1;33m    df = pd.read_fwf(r\"C:\\Users\\rmane\\Downloads\\text.txt\", delimiter\\)\u001b[0m\n\u001b[1;37m                                                                     ^\u001b[0m\n\u001b[1;31mSyntaxError\u001b[0m\u001b[1;31m:\u001b[0m unexpected character after line continuation character\n"
     ]
    }
   ],
   "source": [
    "df = pd.read_fwf(r\"C:\\Users\\rmane\\Downloads\\text.txt\", delimiter\\)\n",
    "print(df)"
   ]
  },
  {
   "cell_type": "code",
   "execution_count": null,
   "metadata": {},
   "outputs": [],
   "source": [
    "pip install openpyxl"
   ]
  },
  {
   "cell_type": "code",
   "execution_count": null,
   "metadata": {},
   "outputs": [],
   "source": [
    "pip install --upgrade pip"
   ]
  },
  {
   "cell_type": "code",
   "execution_count": 105,
   "metadata": {},
   "outputs": [
    {
     "name": "stdout",
     "output_type": "stream",
     "text": [
      ",id,neighbourhood,latitude,longitude,room_type,price,days_occupied_in_2019,minimum_nights,number_of_reviews,reviews_per_month,availability_2020\n",
      "\n"
     ]
    },
    {
     "data": {
      "text/plain": [
       "'0,259'"
      ]
     },
     "execution_count": 105,
     "metadata": {},
     "output_type": "execute_result"
    }
   ],
   "source": [
    "f=open(r\"C:\\Users\\rmane\\Downloads\\new_york.csv\")\n",
    "print(f.readline())\n",
    "f.readline()"
   ]
  },
  {
   "cell_type": "code",
   "execution_count": 125,
   "metadata": {},
   "outputs": [
    {
     "name": "stdout",
     "output_type": "stream",
     "text": [
      "op of read fn is\n",
      "hello all\n",
      "this is delhi\n",
      "this is hyd\n",
      "this is ts\n",
      "\n",
      "\n",
      "op of readline fn is \n",
      "hello all\n",
      "\n",
      "\n",
      "op of read(9) fn is \n",
      "hello all\n",
      "\n",
      "op of readline(9) fn is \n",
      "hello all\n",
      "\n",
      "op of readlines fn is \n",
      "['hello all\\n', 'this is delhi\\n', 'this is hyd\\n', 'this is ts\\n']\n",
      "\n"
     ]
    }
   ],
   "source": [
    "\n",
    "#reading text files using read(),readline(),readlines()\n",
    "\n",
    "\n",
    "f=open(\"file1.txt\",\"w\")\n",
    "L= [\"this is delhi\\n\",\"this is hyd\\n\",\"this is ts\\n\"]\n",
    "f.write(\"hello all\\n\")\n",
    "f.writelines(L)\n",
    "\n",
    "\n",
    "f=open(\"file1.txt\",\"r+\")\n",
    "print(\"op of read fn is\")\n",
    "print(f.read())\n",
    "print()\n",
    "\n",
    "f.seek(0)\n",
    "print(\"op of readline fn is \")\n",
    "print(f.readline())\n",
    "print()\n",
    "\n",
    "f.seek(0)\n",
    "print(\"op of read(9) fn is \")\n",
    "print(f.read(9))\n",
    "print()\n",
    "\n",
    "f.seek(0)\n",
    "print(\"op of readline(9) fn is \")\n",
    "print(f.readline(9))\n",
    "print()\n",
    "\n",
    "f.seek(0)\n",
    "print(\"op of readlines fn is \")\n",
    "print(f.readlines())\n",
    "print()"
   ]
  },
  {
   "cell_type": "code",
   "execution_count": null,
   "metadata": {},
   "outputs": [
    {
     "name": "stdout",
     "output_type": "stream",
     "text": [
      "data is entered\n",
      "cfgh\n",
      "gfvfbg\n",
      "vcde\n",
      "bgtf\n",
      "cat\n",
      "bat\n",
      " these are my filecontent\n"
     ]
    }
   ],
   "source": [
    "#writing text file using write(),writelines()\n",
    "\n",
    "f= open(r\"C:\\Users\\rmane\\Downloads\\text.txt\",\"w\")\n",
    "for i in range(2):\n",
    "    word= input(\"enter the word\")\n",
    "    f.write(word)\n",
    "    f.write(\"\\n\")\n",
    "print(\"data is entered\")\n",
    "f.close()\n",
    "f=open(r\"C:\\Users\\rmane\\Downloads\\text.txt\")\n",
    "print(f.read(),\"these are my filecontent\")\n",
    "\n"
   ]
  },
  {
   "cell_type": "code",
   "execution_count": null,
   "metadata": {},
   "outputs": [
    {
     "name": "stdout",
     "output_type": "stream",
     "text": [
      "data is entered\n",
      "cfgh\n",
      "gfvfbg\n",
      "vcde\n",
      "bgtf\n",
      "cat\n",
      "bat\n",
      "var\n",
      "fat\n",
      "zae\n",
      "zab\n",
      "\n"
     ]
    }
   ],
   "source": [
    "#writing file using append mode\n",
    "\n",
    "f=open(r\"C:\\Users\\rmane\\Downloads\\text.txt\",\"a\")\n",
    "\n",
    "list=[]\n",
    "for i in range(2):\n",
    "    word=input(\"enter the word\")\n",
    "    list.append(word + '\\n')\n",
    "f.writelines(list)\n",
    "f.close()\n",
    "print(\"data is entered\")\n",
    "f=open(r\"C:\\Users\\rmane\\Downloads\\text.txt\",'r')\n",
    "print(f.read())\n"
   ]
  },
  {
   "cell_type": "code",
   "execution_count": 166,
   "metadata": {},
   "outputs": [
    {
     "name": "stdout",
     "output_type": "stream",
     "text": [
      "cfgh\n",
      "gfvfbg\n",
      "vcde\n",
      "bgtf\n",
      "cat\n",
      "bat\n",
      "var\n",
      "fat\n",
      "zae\n",
      "zab\n",
      "\n"
     ]
    }
   ],
   "source": [
    "with open(r\"C:\\Users\\rmane\\Downloads\\text.txt\",'r') as f:\n",
    "    data = f.read()\n",
    "    print(data)"
   ]
  },
  {
   "cell_type": "code",
   "execution_count": 167,
   "metadata": {},
   "outputs": [],
   "source": [
    "#importing csv module\n",
    "import csv\n",
    "#csv file name\n",
    "filename=\"newyork.csv\"\n",
    "\n",
    "columns=[]\n",
    "rows=[]\n",
    "\n",
    "#reading csv file\n",
    "with open(filename,'r')\n",
    "    #creating a csv reader object\n",
    "\n",
    "\n"
   ]
  },
  {
   "cell_type": "code",
   "execution_count": null,
   "metadata": {},
   "outputs": [
    {
     "name": "stdout",
     "output_type": "stream",
     "text": [
      "Name,Branch,Year,CGPA\n",
      "\n",
      "Nikhil,COE,2,9.0\n",
      "\n",
      "Sanchit,COE,2,9.1\n",
      "\n",
      "Aditya,IT,2,9.3\n",
      "\n",
      "Sagar,SE,1,9.5\n",
      "\n",
      "Prateek,MCE,3,7.8\n",
      "\n",
      "Sahil,EP,2,9.1\n",
      "\n",
      "\n"
     ]
    }
   ],
   "source": [
    "# importing the csv module\n",
    "import csv\n",
    "# field names\n",
    "fields = ['Name', 'Branch', 'Year', 'CGPA']\n",
    "# data rows of csv file\n",
    "rows = [['Nikhil', 'COE', '2', '9.0'],\n",
    "        ['Sanchit', 'COE', '2', '9.1'],\n",
    "        ['Aditya', 'IT', '2', '9.3'],\n",
    "        ['Sagar', 'SE', '1', '9.5'],\n",
    "        ['Prateek', 'MCE', '3', '7.8'],\n",
    "        ['Sahil', 'EP', '2', '9.1']]\n",
    "# name of csv file\n",
    "filename = \"university_records.csv\"\n",
    "# writing to csv file\n",
    "with open(filename, 'w') as csvfile:\n",
    "    # creating a csv writer object\n",
    "    csvwriter = csv.writer(csvfile)\n",
    "    # writing the fields\n",
    "    csvwriter.writerow(fields)\n",
    "    # writing the data rows\n",
    "    csvwriter.writerows(rows)\n",
    "with open(r\"university_records.csv\",'r') as f:\n",
    "    data = f.read()\n",
    "    print(data)\n"
   ]
  },
  {
   "cell_type": "code",
   "execution_count": null,
   "metadata": {},
   "outputs": [
    {
     "name": "stdout",
     "output_type": "stream",
     "text": [
      "{'Name': 'Nikhil', 'Branch': 'COE', 'Year': '2', 'CGPA': '9.0'}\n",
      "{'Name': 'Sanchit', 'Branch': 'COE', 'Year': '2', 'CGPA': '9.1'}\n",
      "{'Name': 'Aditya', 'Branch': 'IT', 'Year': '2', 'CGPA': '9.3'}\n",
      "{'Name': 'Sagar', 'Branch': 'SE', 'Year': '1', 'CGPA': '9.5'}\n",
      "{'Name': 'Prateek', 'Branch': 'MCE', 'Year': '3', 'CGPA': '7.8'}\n",
      "{'Name': 'Sahil', 'Branch': 'EP', 'Year': '2', 'CGPA': '9.1'}\n"
     ]
    }
   ],
   "source": [
    "#open csv file for reading \n",
    "with open(\"university_records.csv\",'r') as f:\n",
    "#create a csv reader with dict reader\n",
    "    csv_reader=csv.DictReader(f)\n",
    "    data_list=[]\n",
    "    for row in csv_reader:\n",
    "        data_list.append(row)\n",
    "for data in data_list:\n",
    "    print(data)\n",
    "    "
   ]
  },
  {
   "cell_type": "code",
   "execution_count": 12,
   "metadata": {},
   "outputs": [
    {
     "name": "stdout",
     "output_type": "stream",
     "text": [
      "      Name Branch  Year  CGPA\n",
      "0   Nikhil    COE     2   9.0\n",
      "1  Sanchit    COE     2   9.1\n",
      "2   Aditya     IT     2   9.3\n",
      "3    Sagar     SE     1   9.5\n",
      "4  Prateek    MCE     3   7.8\n",
      "5    Sahil     EP     2   9.1\n",
      "0     Nikhil\n",
      "1    Sanchit\n",
      "2     Aditya\n",
      "3      Sagar\n",
      "4    Prateek\n",
      "5      Sahil\n",
      "Name: Name, dtype: object\n"
     ]
    }
   ],
   "source": [
    "import pandas as pd\n",
    "df= pd.read_csv(\"university_records.csv\")\n",
    "print(df)\n",
    "names =df['Name']\n",
    "print(names)\n"
   ]
  },
  {
   "cell_type": "code",
   "execution_count": 50,
   "metadata": {},
   "outputs": [
    {
     "name": "stdout",
     "output_type": "stream",
     "text": [
      "  branch cgpa     name year\n",
      "0    COE  9.0   Nikhil    2\n",
      "1    COE  9.1  Sanchit    2\n",
      "2     IT  9.3   Aditya    2\n",
      "3     SE  9.5    Sagar    1\n",
      "4    MCE  7.8  Prateek    3\n",
      "5     EP  9.1    Sahil    2\n"
     ]
    }
   ],
   "source": [
    "import pandas as pd\n",
    "mydict = [\n",
    "    {'branch': 'COE', 'cgpa': '9.0', 'name': 'Nikhil', 'year': '2'},\n",
    "    {'branch': 'COE', 'cgpa': '9.1', 'name': 'Sanchit', 'year': '2'},\n",
    "    {'branch': 'IT', 'cgpa': '9.3', 'name': 'Aditya', 'year': '2'},\n",
    "    {'branch': 'SE', 'cgpa': '9.5', 'name': 'Sagar', 'year': '1'},\n",
    "    {'branch': 'MCE', 'cgpa': '7.8', 'name': 'Prateek', 'year': '3'},\n",
    "    {'branch': 'EP', 'cgpa': '9.1', 'name': 'Sahil', 'year': '2'}\n",
    "]\n",
    "\n",
    "# Create a DataFrame from the list of dictionaries\n",
    "df = pd.DataFrame(mydict)\n",
    "\n",
    "# Write the DataFrame to a CSV file\n",
    "df.to_csv('output.csv', index=False)\n",
    "print(df)\n"
   ]
  },
  {
   "cell_type": "code",
   "execution_count": 54,
   "metadata": {},
   "outputs": [
    {
     "name": "stdout",
     "output_type": "stream",
     "text": [
      "<_io.TextIOWrapper name='email_records.csv' mode='w' encoding='cp1252'>\n"
     ]
    }
   ],
   "source": [
    "# importing the csv module\n",
    "import csv\n",
    "\n",
    "# field names\n",
    "fields = ['Email']\n",
    "\n",
    "# data rows of csv file\n",
    "rows = [ ['nikhil.gfg@gmail.com'],\n",
    "        [ 'sanchit.gfg@gmail.com'],\n",
    "        [ 'aditya.gfg@gmail.com'],\n",
    "        [ 'sagar.gfg@gmail.com'],\n",
    "        ['prateek.gfg@gmail.com'],\n",
    "        [ 'sahil.gfg@gmail.com']]\n",
    "\n",
    "# name of csv file\n",
    "filename = \"email_records.csv\"\n",
    "\n",
    "# writing to csv file\n",
    "with open(filename, 'w') as csvfile:\n",
    "    # creating a csv writer object\n",
    "    csvwriter = csv.writer(csvfile)\n",
    "    \n",
    "    # writing the fields\n",
    "    csvwriter.writerow(fields)\n",
    "    \n",
    "    # writing the data rows\n",
    "    csvwriter.writerows(rows)\n",
    "\n",
    "\n"
   ]
  },
  {
   "cell_type": "code",
   "execution_count": 58,
   "metadata": {},
   "outputs": [],
   "source": [
    "#writing json to a file using json.dumps()\n",
    "\n",
    "import json\n",
    "dict={\n",
    "    \"name\":\"manu\",\n",
    "    \"id\" : \"102\",\n",
    "    \"sub\" : \"css\"\n",
    "}\n",
    "json_object=json.dumps(dict,indent=3)\n",
    "with open(\"file1.json\",\"w\") as details:\n",
    "    details.write(json_object)"
   ]
  },
  {
   "cell_type": "code",
   "execution_count": 62,
   "metadata": {},
   "outputs": [],
   "source": [
    "#writing json to a file using json.dump()\n",
    "\n",
    "import json\n",
    "dict={\n",
    "    \"name\":\"akhil\",\n",
    "    \"id\":\"103\",\n",
    "    \"sub\":\"csv\"\n",
    "}\n",
    "with open (\"sample.json\",\"w\") as simple:\n",
    "    json.dump(dict,simple)"
   ]
  },
  {
   "cell_type": "code",
   "execution_count": 64,
   "metadata": {},
   "outputs": [
    {
     "name": "stdout",
     "output_type": "stream",
     "text": [
      "{'name': 'akhil', 'id': '103', 'sub': 'csv'}\n",
      "<class 'dict'>\n"
     ]
    }
   ],
   "source": [
    "#reading json file from a file using json.load()\n",
    "\n",
    "import json\n",
    "with open(\"sample.json\",'r') as op:\n",
    "    json_object=json.load(op)\n",
    "print(json_object)\n",
    "print(type(json_object))\n"
   ]
  },
  {
   "cell_type": "code",
   "execution_count": null,
   "metadata": {},
   "outputs": [
    {
     "data": {
      "text/html": [
       "<div>\n",
       "<style scoped>\n",
       "    .dataframe tbody tr th:only-of-type {\n",
       "        vertical-align: middle;\n",
       "    }\n",
       "\n",
       "    .dataframe tbody tr th {\n",
       "        vertical-align: top;\n",
       "    }\n",
       "\n",
       "    .dataframe thead th {\n",
       "        text-align: right;\n",
       "    }\n",
       "</style>\n",
       "<table border=\"1\" class=\"dataframe\">\n",
       "  <thead>\n",
       "    <tr style=\"text-align: right;\">\n",
       "      <th></th>\n",
       "      <th>name</th>\n",
       "      <th>age</th>\n",
       "      <th>gender</th>\n",
       "    </tr>\n",
       "  </thead>\n",
       "  <tbody>\n",
       "    <tr>\n",
       "      <th>0</th>\n",
       "      <td>akhil</td>\n",
       "      <td>30</td>\n",
       "      <td>male</td>\n",
       "    </tr>\n",
       "    <tr>\n",
       "      <th>1</th>\n",
       "      <td>manu</td>\n",
       "      <td>26</td>\n",
       "      <td>female</td>\n",
       "    </tr>\n",
       "  </tbody>\n",
       "</table>\n",
       "</div>"
      ],
      "text/plain": [
       "    name  age  gender\n",
       "0  akhil   30    male\n",
       "1   manu   26  female"
      ]
     },
     "execution_count": 66,
     "metadata": {},
     "output_type": "execute_result"
    }
   ],
   "source": [
    "#creating a pandas dataframe\n",
    "import pandas as pd\n",
    "list=[['akhil',30,'male'],['manu',26,'female']]\n",
    "df =pd.DataFrame(list,columns=[\"name\",\"age\",\"gender\"])\n",
    "df\n",
    "\n"
   ]
  },
  {
   "cell_type": "code",
   "execution_count": 67,
   "metadata": {},
   "outputs": [
    {
     "name": "stdout",
     "output_type": "stream",
     "text": [
      "[[2 2 4]\n",
      " [3 5 7]\n",
      " [6 7 3]]\n"
     ]
    }
   ],
   "source": [
    "#creating and importing a numpy array using np.array()\n",
    "import numpy as np\n",
    "mat_array=np.array([[2,2,4],\n",
    "                    [3,5,7],\n",
    "                    [6,7,3]])\n",
    "print(mat_array)"
   ]
  },
  {
   "cell_type": "code",
   "execution_count": 68,
   "metadata": {},
   "outputs": [
    {
     "name": "stdout",
     "output_type": "stream",
     "text": [
      "Row by label:\n",
      " Name    Bob\n",
      "Age      30\n",
      "Name: 1, dtype: object\n",
      "Row by position:\n",
      " Name    Bob\n",
      "Age      30\n",
      "Name: 1, dtype: object\n"
     ]
    }
   ],
   "source": [
    "import pandas as pd\n",
    "\n",
    "data = {'Name': ['Alice', 'Bob', 'Charlie'], 'Age': [25, 30, 35]}\n",
    "df = pd.DataFrame(data)\n",
    "\n",
    "# Using .loc[] to select rows by label\n",
    "row_by_label = df.loc[1]  # Selects the row with index label 1 (Bob's data)\n",
    "\n",
    "# Using .iloc[] to select rows by position\n",
    "row_by_position = df.iloc[1]  # Selects the second row (Bob's data)\n",
    "\n",
    "print(\"Row by label:\\n\", row_by_label)\n",
    "print(\"Row by position:\\n\", row_by_position)"
   ]
  },
  {
   "cell_type": "code",
   "execution_count": 69,
   "metadata": {},
   "outputs": [
    {
     "name": "stdout",
     "output_type": "stream",
     "text": [
      "Requirement already satisfied: pandas in c:\\users\\rmane\\appdata\\local\\programs\\python\\python313\\lib\\site-packages (2.2.3)\n",
      "Requirement already satisfied: numpy>=1.26.0 in c:\\users\\rmane\\appdata\\local\\programs\\python\\python313\\lib\\site-packages (from pandas) (2.2.2)\n",
      "Requirement already satisfied: python-dateutil>=2.8.2 in c:\\users\\rmane\\appdata\\roaming\\python\\python313\\site-packages (from pandas) (2.9.0.post0)\n",
      "Requirement already satisfied: pytz>=2020.1 in c:\\users\\rmane\\appdata\\local\\programs\\python\\python313\\lib\\site-packages (from pandas) (2025.1)\n",
      "Requirement already satisfied: tzdata>=2022.7 in c:\\users\\rmane\\appdata\\local\\programs\\python\\python313\\lib\\site-packages (from pandas) (2025.1)\n",
      "Requirement already satisfied: six>=1.5 in c:\\users\\rmane\\appdata\\roaming\\python\\python313\\site-packages (from python-dateutil>=2.8.2->pandas) (1.17.0)\n",
      "Note: you may need to restart the kernel to use updated packages.\n"
     ]
    }
   ],
   "source": [
    "pip install pandas"
   ]
  },
  {
   "cell_type": "code",
   "execution_count": 70,
   "metadata": {},
   "outputs": [
    {
     "name": "stdout",
     "output_type": "stream",
     "text": [
      "Collecting pytestNote: you may need to restart the kernel to use updated packages.\n",
      "\n",
      "  Downloading pytest-8.3.4-py3-none-any.whl.metadata (7.5 kB)\n",
      "Requirement already satisfied: colorama in c:\\users\\rmane\\appdata\\roaming\\python\\python313\\site-packages (from pytest) (0.4.6)\n",
      "Collecting iniconfig (from pytest)\n",
      "  Downloading iniconfig-2.0.0-py3-none-any.whl.metadata (2.6 kB)\n",
      "Requirement already satisfied: packaging in c:\\users\\rmane\\appdata\\roaming\\python\\python313\\site-packages (from pytest) (24.2)\n",
      "Collecting pluggy<2,>=1.5 (from pytest)\n",
      "  Downloading pluggy-1.5.0-py3-none-any.whl.metadata (4.8 kB)\n",
      "Downloading pytest-8.3.4-py3-none-any.whl (343 kB)\n",
      "Downloading pluggy-1.5.0-py3-none-any.whl (20 kB)\n",
      "Downloading iniconfig-2.0.0-py3-none-any.whl (5.9 kB)\n",
      "Installing collected packages: pluggy, iniconfig, pytest\n",
      "Successfully installed iniconfig-2.0.0 pluggy-1.5.0 pytest-8.3.4\n"
     ]
    },
    {
     "name": "stderr",
     "output_type": "stream",
     "text": [
      "  WARNING: The scripts py.test.exe and pytest.exe are installed in 'c:\\Users\\rmane\\AppData\\Local\\Programs\\Python\\Python313\\Scripts' which is not on PATH.\n",
      "  Consider adding this directory to PATH or, if you prefer to suppress this warning, use --no-warn-script-location.\n"
     ]
    }
   ],
   "source": [
    "pip install pytest"
   ]
  },
  {
   "cell_type": "code",
   "execution_count": 84,
   "metadata": {},
   "outputs": [],
   "source": [
    "#math_functions.py\n",
    "def add(x, y):\n",
    "    return x + y\n",
    "\n",
    "def subtract(x, y):\n",
    "    return x - y\n",
    "\n",
    "\n"
   ]
  },
  {
   "cell_type": "code",
   "execution_count": 2,
   "metadata": {},
   "outputs": [
    {
     "ename": "ModuleNotFoundError",
     "evalue": "No module named 'math_functions'",
     "output_type": "error",
     "traceback": [
      "\u001b[1;31m---------------------------------------------------------------------------\u001b[0m",
      "\u001b[1;31mModuleNotFoundError\u001b[0m                       Traceback (most recent call last)",
      "Cell \u001b[1;32mIn[2], line 1\u001b[0m\n\u001b[1;32m----> 1\u001b[0m \u001b[38;5;28;01mimport\u001b[39;00m\u001b[38;5;250m \u001b[39m\u001b[38;5;21;01mmath_functions\u001b[39;00m\n\u001b[0;32m      3\u001b[0m \u001b[38;5;28;01mdef\u001b[39;00m\u001b[38;5;250m \u001b[39m\u001b[38;5;21mresult_add\u001b[39m():\n\u001b[0;32m      4\u001b[0m     \u001b[38;5;28;01massert\u001b[39;00m math_functions\u001b[38;5;241m.\u001b[39madd(\u001b[38;5;241m3\u001b[39m,\u001b[38;5;241m4\u001b[39m)\u001b[38;5;241m==\u001b[39m\u001b[38;5;241m7\u001b[39m\n",
      "\u001b[1;31mModuleNotFoundError\u001b[0m: No module named 'math_functions'"
     ]
    }
   ],
   "source": [
    "import math_functions\n",
    "\n",
    "def result_add():\n",
    "    assert math_functions.add(3,4)==7\n",
    "def result_sub():\n",
    "    assert math_functions.sub(7,4)==3\n"
   ]
  },
  {
   "cell_type": "code",
   "execution_count": 85,
   "metadata": {},
   "outputs": [
    {
     "name": "stdout",
     "output_type": "stream",
     "text": [
      "c:\\Users\\rmane\\.vscode\\cli\n"
     ]
    }
   ],
   "source": [
    "import os\n",
    "print(os.getcwd())"
   ]
  },
  {
   "cell_type": "code",
   "execution_count": 11,
   "metadata": {},
   "outputs": [
    {
     "name": "stdout",
     "output_type": "stream",
     "text": [
      "Requirement already satisfied: numpy in c:\\users\\rmane\\appdata\\local\\programs\\python\\python313\\lib\\site-packages (2.2.2)\n",
      "Note: you may need to restart the kernel to use updated packages.\n"
     ]
    }
   ],
   "source": [
    "pip install numpy"
   ]
  }
 ],
 "metadata": {
  "kernelspec": {
   "display_name": "Python 3",
   "language": "python",
   "name": "python3"
  },
  "language_info": {
   "codemirror_mode": {
    "name": "ipython",
    "version": 3
   },
   "file_extension": ".py",
   "mimetype": "text/x-python",
   "name": "python",
   "nbconvert_exporter": "python",
   "pygments_lexer": "ipython3",
   "version": "3.13.1"
  }
 },
 "nbformat": 4,
 "nbformat_minor": 2
}
