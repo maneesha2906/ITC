{
 "cells": [
  {
   "cell_type": "markdown",
   "metadata": {},
   "source": [
    "2.1 Pandas-- data structures"
   ]
  },
  {
   "cell_type": "markdown",
   "metadata": {},
   "source": [
    "2.1.1 Creating a Pandas Series"
   ]
  },
  {
   "cell_type": "code",
   "execution_count": 1,
   "metadata": {},
   "outputs": [
    {
     "name": "stdout",
     "output_type": "stream",
     "text": [
      "a    10\n",
      "b    20\n",
      "c    30\n",
      "d    40\n",
      "dtype: int64\n"
     ]
    }
   ],
   "source": [
    "import pandas as pd\n",
    "data = [10, 20, 30, 40]\n",
    "series = pd.Series(data, index=[\"a\", \"b\", \"c\", \"d\"])  # Custom index\n",
    "print(series)"
   ]
  },
  {
   "cell_type": "markdown",
   "metadata": {},
   "source": [
    "2.1.2 Creating a DataFrame"
   ]
  },
  {
   "cell_type": "code",
   "execution_count": 2,
   "metadata": {},
   "outputs": [
    {
     "name": "stdout",
     "output_type": "stream",
     "text": [
      "  Name  Age  Salary\n",
      "0  abc   25   50000\n",
      "1  pqr   30   60000\n",
      "2  xyz   35   70000\n"
     ]
    }
   ],
   "source": [
    "data = {\n",
    "    \"Name\": [\"abc\", \"pqr\", \"xyz\"],\n",
    "    \"Age\": [25, 30, 35],\n",
    "    \"Salary\": [50000, 60000, 70000]\n",
    "}\n",
    "\n",
    "df = pd.DataFrame(data)  # Creating DataFrame\n",
    "print(df)"
   ]
  },
  {
   "cell_type": "markdown",
   "metadata": {},
   "source": [
    "2.2 Data selection & Indexing in Pandas"
   ]
  },
  {
   "cell_type": "markdown",
   "metadata": {},
   "source": [
    "2.2.1 Selecting Data in a Series"
   ]
  },
  {
   "cell_type": "code",
   "execution_count": 4,
   "metadata": {},
   "outputs": [
    {
     "name": "stdout",
     "output_type": "stream",
     "text": [
      "20\n",
      "a    10\n",
      "c    30\n",
      "dtype: int64\n"
     ]
    }
   ],
   "source": [
    "#Selecting a Single Element\n",
    "series = pd.Series([10, 20, 30], index=[\"a\", \"b\", \"c\"])\n",
    "print(series[\"b\"]) \n",
    "\n",
    "# Selecting Multiple Elements\n",
    "print(series[[\"a\", \"c\"]])"
   ]
  },
  {
   "cell_type": "markdown",
   "metadata": {},
   "source": [
    "2.2.2 Selecting Data in a DataFrame"
   ]
  },
  {
   "cell_type": "code",
   "execution_count": 5,
   "metadata": {},
   "outputs": [
    {
     "name": "stdout",
     "output_type": "stream",
     "text": [
      "0      Alice\n",
      "1        Bob\n",
      "2    Charlie\n",
      "Name: Name, dtype: object\n",
      "      Name  Salary\n",
      "0    Alice   50000\n",
      "1      Bob   60000\n",
      "2  Charlie   70000\n"
     ]
    }
   ],
   "source": [
    "#Selecting Columns\n",
    "df = pd.DataFrame({\n",
    "    \"Name\": [\"Alice\", \"Bob\", \"Charlie\"],\n",
    "    \"Age\": [25, 30, 35],\n",
    "    \"Salary\": [50000, 60000, 70000]\n",
    "})\n",
    "\n",
    "print(df[\"Name\"])  # Select a single column\n",
    "print(df[[\"Name\", \"Salary\"]])  # Select multiple columns"
   ]
  },
  {
   "cell_type": "code",
   "execution_count": 35,
   "metadata": {},
   "outputs": [
    {
     "name": "stdout",
     "output_type": "stream",
     "text": [
      "Name        Bob\n",
      "Age          30\n",
      "Salary    60000\n",
      "Name: b, dtype: object\n",
      "Name        Bob\n",
      "Age          30\n",
      "Salary    60000\n",
      "Name: b, dtype: object\n",
      "      Name  Age  Salary\n",
      "a    Alice   25   50000\n",
      "b      Bob   30   60000\n",
      "c  Charlie   35   70000\n",
      "    Name  Age  Salary\n",
      "a  Alice   25   50000\n",
      "b    Bob   30   60000\n"
     ]
    }
   ],
   "source": [
    "#Selecting Rows using Indexing\n",
    "#Using loc[] (Label-Based)\n",
    "data = {\n",
    "    \"Name\": [\"Alice\", \"Bob\", \"Charlie\"],\n",
    "    \"Age\": [25, 30, 35],\n",
    "    \"Salary\": [50000, 60000, 70000]\n",
    "}\n",
    "df = pd.DataFrame(data, index=[\"a\", \"b\", \"c\"])  # Custom index labels\n",
    "#print(df)\n",
    "\n",
    "print(df.loc[\"b\"])  # Select row by index label\n",
    "\n",
    "#Using iloc[] (Position-Based)\n",
    "print(df.iloc[1])  # Select 2nd row\n",
    "\n",
    "#Selecting Multiple Rows\n",
    "print(df.loc[\"a\":\"c\"])  # Select rows 0 and 1 \n",
    "print(df.iloc[:2])  # Select first two rows\n",
    "\n",
    "#reset Numerical Indexing:\n",
    "df.reset_index(drop=True, inplace=True)"
   ]
  },
  {
   "cell_type": "markdown",
   "metadata": {},
   "source": [
    "2.2.3 Filtering Data -- Filtering is done using conditions"
   ]
  },
  {
   "cell_type": "code",
   "execution_count": 36,
   "metadata": {},
   "outputs": [
    {
     "name": "stdout",
     "output_type": "stream",
     "text": [
      "      Name  Age  Salary\n",
      "1      Bob   30   60000\n",
      "2  Charlie   35   70000\n",
      "      Name  Age  Salary\n",
      "2  Charlie   35   70000\n"
     ]
    }
   ],
   "source": [
    "# Filter Rows Based on a Condition\n",
    "print(df[df[\"Age\"] > 28])  # Select rows where Age > 28\n",
    "\n",
    "#Multiple Conditions\n",
    "print(df[(df[\"Age\"] > 28) & (df[\"Salary\"] > 60000)])"
   ]
  },
  {
   "cell_type": "markdown",
   "metadata": {},
   "source": [
    "2.2.4 Manipulating Data"
   ]
  },
  {
   "cell_type": "code",
   "execution_count": 43,
   "metadata": {},
   "outputs": [
    {
     "name": "stdout",
     "output_type": "stream",
     "text": [
      "    Name   Age   Salary   Bonus\n",
      "0  Alice  25.0  50000.0  5000.0\n",
      "2    NaN   NaN      NaN     NaN\n",
      "    Name   Age   Salary   Bonus\n",
      "0  Alice  25.0  50000.0  5000.0\n",
      "1    NaN   NaN  65000.0     NaN\n",
      "2    NaN   NaN      NaN     NaN\n",
      "    Name   Age   Salary\n",
      "0  Alice  25.0  50000.0\n",
      "1    NaN   NaN  65000.0\n",
      "2    NaN   NaN      NaN\n",
      "    Name   Age   Salary\n",
      "0  Alice  25.0  50000.0\n",
      "2    NaN   NaN      NaN\n"
     ]
    }
   ],
   "source": [
    "#Adding a New Column\n",
    "df[\"Bonus\"] = df[\"Salary\"] * 0.10\n",
    "print(df)\n",
    "\n",
    "#Modifying Values\n",
    "df.loc[1, \"Salary\"] = 65000  # Update Bob's Salary\n",
    "print(df)\n",
    "\n",
    "#Dropping Columns\n",
    "df.drop(columns=[\"Bonus\"], inplace=True)\n",
    "print(df)\n",
    "\n",
    "#Dropping Rows\n",
    "df.drop(index=1, inplace=True)  # Remove Bob\n",
    "(print(df))"
   ]
  },
  {
   "cell_type": "markdown",
   "metadata": {},
   "source": [
    "2.3 Data Cleaning in Pandas: Handling Missing Data, Duplicates, and Outliers"
   ]
  },
  {
   "cell_type": "markdown",
   "metadata": {},
   "source": [
    "2.3.1 Handling Missing Data (NaN values) -- Missing data (NaN values) can be handled by removing, replacing, or filling them with appropriate values."
   ]
  },
  {
   "cell_type": "code",
   "execution_count": 62,
   "metadata": {},
   "outputs": [
    {
     "name": "stdout",
     "output_type": "stream",
     "text": [
      "    Name   Age   Salary\n",
      "0  Alice  25.0  50000.0\n",
      "1    Bob   NaN  60000.0\n",
      "2    NaN  30.0      NaN\n",
      "3  David  35.0  70000.0\n",
      "    Name    Age  Salary\n",
      "0  False  False   False\n",
      "1  False   True   False\n",
      "2   True  False    True\n",
      "3  False  False   False\n",
      "Name      1\n",
      "Age       1\n",
      "Salary    1\n",
      "dtype: int64\n"
     ]
    }
   ],
   "source": [
    "import pandas as pd\n",
    "import numpy as np\n",
    "\n",
    "# Creating a DataFrame with missing values\n",
    "df = pd.DataFrame({\n",
    "    \"Name\": [\"Alice\", \"Bob\", np.nan, \"David\"],\n",
    "    \"Age\": [25, np.nan, 30, 35],\n",
    "    \"Salary\": [50000, 60000, np.nan, 70000]\n",
    "})\n",
    "print(df)\n",
    "print(df.isnull())  # Check which values are missing\n",
    "print(df.isnull().sum())  # Count missing values in each column\n"
   ]
  },
  {
   "cell_type": "code",
   "execution_count": 61,
   "metadata": {},
   "outputs": [
    {
     "name": "stdout",
     "output_type": "stream",
     "text": [
      "    Name   Age   Salary\n",
      "0  Alice  25.0  50000.0\n",
      "1    Bob  30.0  60000.0\n",
      "2    NaN  30.0      NaN\n",
      "3  David  35.0  70000.0\n"
     ]
    }
   ],
   "source": [
    "# Removing Missing Data\n",
    "df_cleaned = df.dropna()  # Remove rows with missing values\n",
    "print(df_cleaned)\n",
    "\n",
    "# Remove cols with missing values\n",
    "# df_cleaned= df.dropna(axis=1) \n",
    "\n",
    "# Print the DataFrame with missing values filled\n",
    "df['Age'] = df['Age'].fillna(df['Age'].mean())\n",
    "print(df)\n",
    "\n",
    "\n"
   ]
  },
  {
   "cell_type": "markdown",
   "metadata": {},
   "source": [
    "2.3.2 Handling Duplicates --- Duplicate rows can cause data inconsistencies"
   ]
  },
  {
   "cell_type": "code",
   "execution_count": 68,
   "metadata": {},
   "outputs": [
    {
     "name": "stdout",
     "output_type": "stream",
     "text": [
      "    Name\n",
      "0  Alice\n",
      "1    Bob\n",
      "2    Bob\n",
      "3  David\n",
      "0    False\n",
      "1    False\n",
      "2     True\n",
      "3    False\n",
      "dtype: bool\n",
      "1\n"
     ]
    }
   ],
   "source": [
    "# Creating a DataFrame with duplicates values\n",
    "df = pd.DataFrame({\"Name\": [\"Alice\", \"Bob\", \"Bob\", \"David\"]})\n",
    "print(df)\n",
    "\n",
    "#Checking for Duplicates\n",
    "\n",
    "print(df.duplicated())  # Returns True for duplicate rows\n",
    "print(df.duplicated().sum())  # Count duplicate rows\n",
    "\n",
    "#Removing Duplicates\n",
    "df.drop_duplicates(inplace=True)  # Remove duplicate rows"
   ]
  },
  {
   "cell_type": "markdown",
   "metadata": {},
   "source": [
    "2.3.3 Handling Outliers-- values that significantly deviate from the rest of the data"
   ]
  },
  {
   "cell_type": "code",
   "execution_count": null,
   "metadata": {},
   "outputs": [
    {
     "name": "stdout",
     "output_type": "stream",
     "text": [
      "Empty DataFrame\n",
      "Columns: [Name, Age, Salary]\n",
      "Index: []\n"
     ]
    }
   ],
   "source": [
    "# Detecting Outliers (Using IQR-Interquartile Range Method)\n",
    "data = {\n",
    "    \"Name\": [\"Alice\", \"Bob\", \"Charlie\"],\n",
    "    \"Age\": [25, 30, 35],\n",
    "    \"Salary\": [50000, 60000, 70000]\n",
    "}\n",
    "df = pd.DataFrame(data)\n",
    "Q1 = df[\"Salary\"].quantile(0.25)\n",
    "Q3 = df[\"Salary\"].quantile(0.75)\n",
    "IQR = Q3 - Q1\n",
    "\n",
    "lower_bound = Q1 - 1.5 * IQR\n",
    "upper_bound = Q3 + 1.5 * IQR\n",
    "\n",
    "outliers = df[(df[\"Salary\"] < lower_bound) | (df[\"Salary\"] > upper_bound)]\n",
    "print(outliers)  # Display outliers\n",
    "\n",
    "# Q1 (25th percentile) of Salary is 55000\n",
    "# Q3 (75th percentile) of Salary is 65000\n",
    "# So, IQR = 65000 - 55000 = 10000\n",
    "# Lower Bound = 55000 - 1.5 * 10000 = 35000\n",
    "# Upper Bound = 65000 + 1.5 * 10000 = 85000\n",
    "# the Salary values in this example are 50,000, 60,000, and 70,000, none of these salaries are outside the range of 35,000 to 85,000. Hence, there will be no outliers\n",
    "\n",
    "# Removing Outliers\n",
    "#df_filtered = df[(df[\"Salary\"] >= lower_bound) & (df[\"Salary\"] <= upper_bound)]\n"
   ]
  },
  {
   "cell_type": "markdown",
   "metadata": {},
   "source": [
    "2.4 Merging and Joining DataFrames"
   ]
  },
  {
   "cell_type": "markdown",
   "metadata": {},
   "source": [
    "2.4.1 Merge and types of merge: left,right,inner,outer"
   ]
  },
  {
   "cell_type": "code",
   "execution_count": 77,
   "metadata": {},
   "outputs": [
    {
     "name": "stdout",
     "output_type": "stream",
     "text": [
      "   ID   Name  Salary\n",
      "0   1  Alice   50000\n",
      "1   2    Bob   60000\n",
      "2   4  David   70000\n",
      "   ID     Name   Salary\n",
      "0   1    Alice  50000.0\n",
      "1   2      Bob  60000.0\n",
      "2   3  Charlie      NaN\n",
      "3   4    David  70000.0\n",
      "4   5      NaN  80000.0\n"
     ]
    }
   ],
   "source": [
    "# Basic Merge\n",
    "# Creating DataFrame 1\n",
    "df1 = pd.DataFrame({\n",
    "    'ID': [1, 2, 3, 4],\n",
    "    'Name': ['Alice', 'Bob', 'Charlie', 'David']\n",
    "})\n",
    "\n",
    "# Creating DataFrame 2\n",
    "df2 = pd.DataFrame({\n",
    "    'ID': [1, 2, 4, 5],\n",
    "    'Salary': [50000, 60000, 70000, 80000]\n",
    "})\n",
    "\n",
    "# Merging based on 'ID'\n",
    "merged_df = pd.merge(df1, df2, how='inner', on='ID')\n",
    "print(merged_df)\n",
    "\n",
    "#Outer join\n",
    "outermerged_df = pd.merge(df1, df2, how='outer', on='ID')\n",
    "print(outermerged_df)"
   ]
  },
  {
   "cell_type": "markdown",
   "metadata": {},
   "source": [
    "2.4.2 Joining DataFrames by Index"
   ]
  },
  {
   "cell_type": "code",
   "execution_count": 79,
   "metadata": {},
   "outputs": [
    {
     "name": "stdout",
     "output_type": "stream",
     "text": [
      "      Name  Age  Salary\n",
      "A    Alice   25   50000\n",
      "B      Bob   30   60000\n",
      "C  Charlie   35   70000\n",
      "D    David   40   80000\n"
     ]
    }
   ],
   "source": [
    "# Creating DataFrame 1 with index\n",
    "df1 = pd.DataFrame({\n",
    "    'Name': ['Alice', 'Bob', 'Charlie', 'David'],\n",
    "    'Age': [25, 30, 35, 40]\n",
    "}, index=['A', 'B', 'C', 'D'])\n",
    "\n",
    "# Creating DataFrame 2 with index\n",
    "df2 = pd.DataFrame({\n",
    "    'Salary': [50000, 60000, 70000, 80000]\n",
    "}, index=['A', 'B', 'C', 'D'])\n",
    "\n",
    "# Join df1 and df2 by index\n",
    "joined_df = df1.join(df2)\n",
    "print(joined_df)"
   ]
  },
  {
   "cell_type": "markdown",
   "metadata": {},
   "source": [
    "2.4.3 Concatenating DataFrames"
   ]
  },
  {
   "cell_type": "code",
   "execution_count": 83,
   "metadata": {},
   "outputs": [
    {
     "name": "stdout",
     "output_type": "stream",
     "text": [
      "      Name   Age   Salary\n",
      "A    Alice  25.0      NaN\n",
      "B      Bob  30.0      NaN\n",
      "C  Charlie  35.0      NaN\n",
      "D    David  40.0      NaN\n",
      "A      NaN   NaN  50000.0\n",
      "B      NaN   NaN  60000.0\n",
      "C      NaN   NaN  70000.0\n",
      "D      NaN   NaN  80000.0\n"
     ]
    }
   ],
   "source": [
    "vericalcon=pd.concat([df1, df2], axis=0)  # Vertical concatenation (default)\n",
    "print(vericalcon)\n",
    "\n",
    "#horizontalcon=pd.concat([df1, df2], axis=1)  # Horizontal concatenation\n",
    "#print(horizontalcon)"
   ]
  },
  {
   "cell_type": "markdown",
   "metadata": {},
   "source": [
    "2.5 Time Series Data using pandas"
   ]
  },
  {
   "cell_type": "markdown",
   "metadata": {},
   "source": [
    "1: Creating Time Series Data"
   ]
  },
  {
   "cell_type": "code",
   "execution_count": 85,
   "metadata": {},
   "outputs": [
    {
     "name": "stdout",
     "output_type": "stream",
     "text": [
      "            Value\n",
      "2025-01-01    100\n",
      "2025-01-02    200\n",
      "2025-01-03    300\n",
      "2025-01-04    400\n",
      "2025-01-05    500\n"
     ]
    }
   ],
   "source": [
    "#Creating Time Series Data using date_range()\n",
    "# Generate a time range\n",
    "#Syntax: pd.date_range(start=None, end=None, periods=None, freq=None, tz=None, normalize=False, name=None, closed=None)\n",
    "dates = pd.date_range('2025-01-01', periods=5, freq='D')  # 'D' means daily frequency\n",
    "\n",
    "# Create a DataFrame with these dates as the index\n",
    "data = [100, 200, 300, 400, 500]\n",
    "df = pd.DataFrame(data, index=dates, columns=[\"Value\"])\n",
    "\n",
    "print(df)\n",
    "\n",
    "#convert an existing column in your DataFrame to datetime format using pd.to_datetime()\n",
    "# Sample DataFrame with a column of string dates\n",
    "#data = {'date_column': ['2025-01-01', '2025-01-02', '2025-01-03']}\n",
    "#df = pd.DataFrame(data)\n",
    "# Convert the 'date_column' to datetime format\n",
    "#df['date_column'] = pd.to_datetime(df['date_column'])\n",
    "# Check the result\n",
    "#print(df)"
   ]
  },
  {
   "cell_type": "markdown",
   "metadata": {},
   "source": [
    "2: Converting Columns to DateTime -- If we already have a column with string dates, we can convert it to datetime using pd.to_datetime()"
   ]
  },
  {
   "cell_type": "code",
   "execution_count": 86,
   "metadata": {},
   "outputs": [
    {
     "name": "stdout",
     "output_type": "stream",
     "text": [
      "            Value\n",
      "Date             \n",
      "2025-01-01    100\n",
      "2025-01-02    200\n",
      "2025-01-03    300\n",
      "2025-01-04    400\n",
      "2025-01-05    500\n"
     ]
    }
   ],
   "source": [
    "df = pd.DataFrame({\n",
    "    'Date': ['2025-01-01', '2025-01-02', '2025-01-03', '2025-01-04', '2025-01-05'],\n",
    "    'Value': [100, 200, 300, 400, 500]\n",
    "})\n",
    "\n",
    "df['Date'] = pd.to_datetime(df['Date'])  # Convert the 'Date' column to datetime\n",
    "df.set_index('Date', inplace=True)  # Set 'Date' as the index\n",
    "\n",
    "print(df)"
   ]
  },
  {
   "cell_type": "markdown",
   "metadata": {},
   "source": [
    "3: Resampling Time Series Data -- useful for aggregating data (e.g., from daily to monthly).\n",
    "\n"
   ]
  },
  {
   "cell_type": "code",
   "execution_count": 87,
   "metadata": {},
   "outputs": [
    {
     "name": "stdout",
     "output_type": "stream",
     "text": [
      "            Value\n",
      "Date             \n",
      "2025-01-31  300.0\n"
     ]
    },
    {
     "name": "stderr",
     "output_type": "stream",
     "text": [
      "C:\\Users\\dhara\\AppData\\Local\\Temp\\ipykernel_2932\\3523063489.py:2: FutureWarning: 'M' is deprecated and will be removed in a future version, please use 'ME' instead.\n",
      "  df_monthly = df.resample('M').mean()\n"
     ]
    }
   ],
   "source": [
    "# Resample from daily data to monthly data, taking the mean value for each month\n",
    "df_monthly = df.resample('M').mean()\n",
    "\n",
    "print(df_monthly)"
   ]
  },
  {
   "cell_type": "markdown",
   "metadata": {},
   "source": [
    "4:Time Shifting -- shifts data forward or backward by a specified number of periods, This can be helpful for calculating differences between periods or comparing lagged values"
   ]
  },
  {
   "cell_type": "code",
   "execution_count": 90,
   "metadata": {},
   "outputs": [
    {
     "name": "stdout",
     "output_type": "stream",
     "text": [
      "            Value\n",
      "Date             \n",
      "2025-01-01    NaN\n",
      "2025-01-02  100.0\n",
      "2025-01-03  200.0\n",
      "2025-01-04  300.0\n",
      "2025-01-05  400.0\n"
     ]
    }
   ],
   "source": [
    "#Shift data by 1 day\n",
    "df_shifted = df.shift(1)\n",
    "print(df_shifted)"
   ]
  },
  {
   "cell_type": "markdown",
   "metadata": {},
   "source": [
    "5: Rolling Window Calculations -- (like moving averages ) using the rolling() function, useful for smoothing out short-term fluctuations in time series data"
   ]
  },
  {
   "cell_type": "code",
   "execution_count": 91,
   "metadata": {},
   "outputs": [
    {
     "name": "stdout",
     "output_type": "stream",
     "text": [
      "            Value  Moving_Avg\n",
      "Date                         \n",
      "2025-01-01    100         NaN\n",
      "2025-01-02    200         NaN\n",
      "2025-01-03    300       200.0\n",
      "2025-01-04    400       300.0\n",
      "2025-01-05    500       400.0\n"
     ]
    }
   ],
   "source": [
    "# Calculate the 3-day moving average of 'Value'\n",
    "df['Moving_Avg'] = df['Value'].rolling(window=3).mean()\n",
    "print(df)"
   ]
  },
  {
   "cell_type": "markdown",
   "metadata": {},
   "source": [
    "6: Handling Missing Data in Time Series --  forward-fill (ffill), backward-fill (bfill), or interpolating the missing values"
   ]
  },
  {
   "cell_type": "code",
   "execution_count": 93,
   "metadata": {},
   "outputs": [
    {
     "name": "stdout",
     "output_type": "stream",
     "text": [
      "            Value  Moving_Avg\n",
      "Date                         \n",
      "2025-01-01  100.0         NaN\n",
      "2025-01-02  200.0         NaN\n",
      "2025-01-03  200.0       200.0\n",
      "2025-01-04  400.0       300.0\n",
      "2025-01-05  500.0       400.0\n"
     ]
    },
    {
     "name": "stderr",
     "output_type": "stream",
     "text": [
      "C:\\Users\\dhara\\AppData\\Local\\Temp\\ipykernel_2932\\4023358976.py:5: FutureWarning: DataFrame.fillna with 'method' is deprecated and will raise in a future version. Use obj.ffill() or obj.bfill() instead.\n",
      "  df_filled = df_with_nan.fillna(method='ffill')  # Forward fill missing values\n"
     ]
    }
   ],
   "source": [
    "#Forward Fill Missing Data\n",
    "df_with_nan = df.copy()\n",
    "df_with_nan.loc['2025-01-03', 'Value'] = None  # Add a missing value\n",
    "\n",
    "df_filled = df_with_nan.fillna(method='ffill')  # Forward fill missing values\n",
    "print(df_filled)"
   ]
  },
  {
   "cell_type": "markdown",
   "metadata": {},
   "source": [
    "7: Plotting Time Series Data -- Matplotlib use for plotting time series data"
   ]
  },
  {
   "cell_type": "code",
   "execution_count": 95,
   "metadata": {},
   "outputs": [
    {
     "name": "stdout",
     "output_type": "stream",
     "text": [
      "Collecting matplotlibNote: you may need to restart the kernel to use updated packages.\n",
      "\n",
      "  Downloading matplotlib-3.10.0-cp313-cp313-win_amd64.whl.metadata (11 kB)\n",
      "Collecting contourpy>=1.0.1 (from matplotlib)\n",
      "  Downloading contourpy-1.3.1-cp313-cp313-win_amd64.whl.metadata (5.4 kB)\n",
      "Collecting cycler>=0.10 (from matplotlib)\n",
      "  Downloading cycler-0.12.1-py3-none-any.whl.metadata (3.8 kB)\n",
      "Collecting fonttools>=4.22.0 (from matplotlib)\n",
      "  Downloading fonttools-4.55.8-cp313-cp313-win_amd64.whl.metadata (103 kB)\n",
      "Collecting kiwisolver>=1.3.1 (from matplotlib)\n",
      "  Downloading kiwisolver-1.4.8-cp313-cp313-win_amd64.whl.metadata (6.3 kB)\n",
      "Requirement already satisfied: numpy>=1.23 in c:\\users\\dhara\\appdata\\local\\programs\\python\\python313\\lib\\site-packages (from matplotlib) (2.2.2)\n",
      "Requirement already satisfied: packaging>=20.0 in c:\\users\\dhara\\appdata\\roaming\\python\\python313\\site-packages (from matplotlib) (24.2)\n",
      "Collecting pillow>=8 (from matplotlib)\n",
      "  Downloading pillow-11.1.0-cp313-cp313-win_amd64.whl.metadata (9.3 kB)\n",
      "Collecting pyparsing>=2.3.1 (from matplotlib)\n",
      "  Downloading pyparsing-3.2.1-py3-none-any.whl.metadata (5.0 kB)\n",
      "Requirement already satisfied: python-dateutil>=2.7 in c:\\users\\dhara\\appdata\\roaming\\python\\python313\\site-packages (from matplotlib) (2.9.0.post0)\n",
      "Requirement already satisfied: six>=1.5 in c:\\users\\dhara\\appdata\\roaming\\python\\python313\\site-packages (from python-dateutil>=2.7->matplotlib) (1.17.0)\n",
      "Downloading matplotlib-3.10.0-cp313-cp313-win_amd64.whl (8.0 MB)\n",
      "   ---------------------------------------- 0.0/8.0 MB ? eta -:--:--\n",
      "   ------- -------------------------------- 1.6/8.0 MB 9.6 MB/s eta 0:00:01\n",
      "   -------------- ------------------------- 2.9/8.0 MB 7.6 MB/s eta 0:00:01\n",
      "   -------------------- ------------------- 4.2/8.0 MB 7.2 MB/s eta 0:00:01\n",
      "   ------------------------------ --------- 6.0/8.0 MB 7.6 MB/s eta 0:00:01\n",
      "   ---------------------------------------  7.9/8.0 MB 7.7 MB/s eta 0:00:01\n",
      "   ---------------------------------------- 8.0/8.0 MB 7.5 MB/s eta 0:00:00\n",
      "Downloading contourpy-1.3.1-cp313-cp313-win_amd64.whl (220 kB)\n",
      "Downloading cycler-0.12.1-py3-none-any.whl (8.3 kB)\n",
      "Downloading fonttools-4.55.8-cp313-cp313-win_amd64.whl (2.2 MB)\n",
      "   ---------------------------------------- 0.0/2.2 MB ? eta -:--:--\n",
      "   ---------------------------- ----------- 1.6/2.2 MB 7.7 MB/s eta 0:00:01\n",
      "   ---------------------------------------- 2.2/2.2 MB 7.6 MB/s eta 0:00:00\n",
      "Downloading kiwisolver-1.4.8-cp313-cp313-win_amd64.whl (71 kB)\n",
      "Downloading pillow-11.1.0-cp313-cp313-win_amd64.whl (2.6 MB)\n",
      "   ---------------------------------------- 0.0/2.6 MB ? eta -:--:--\n",
      "   ----------------------- ---------------- 1.6/2.6 MB 8.6 MB/s eta 0:00:01\n",
      "   ---------------------------------------- 2.6/2.6 MB 8.0 MB/s eta 0:00:00\n",
      "Downloading pyparsing-3.2.1-py3-none-any.whl (107 kB)\n",
      "Installing collected packages: pyparsing, pillow, kiwisolver, fonttools, cycler, contourpy, matplotlib\n",
      "Successfully installed contourpy-1.3.1 cycler-0.12.1 fonttools-4.55.8 kiwisolver-1.4.8 matplotlib-3.10.0 pillow-11.1.0 pyparsing-3.2.1\n"
     ]
    },
    {
     "name": "stderr",
     "output_type": "stream",
     "text": [
      "  WARNING: The scripts fonttools.exe, pyftmerge.exe, pyftsubset.exe and ttx.exe are installed in 'c:\\Users\\dhara\\AppData\\Local\\Programs\\Python\\Python313\\Scripts' which is not on PATH.\n",
      "  Consider adding this directory to PATH or, if you prefer to suppress this warning, use --no-warn-script-location.\n",
      "\n",
      "[notice] A new release of pip is available: 24.3.1 -> 25.0\n",
      "[notice] To update, run: python.exe -m pip install --upgrade pip\n"
     ]
    }
   ],
   "source": [
    "pip install matplotlib\n"
   ]
  },
  {
   "cell_type": "code",
   "execution_count": 96,
   "metadata": {},
   "outputs": [
    {
     "data": {
      "image/png": "[encoded data removed]",
      "text/plain": [
       "<Figure size 640x480 with 1 Axes>"
      ]
     },
     "metadata": {},
     "output_type": "display_data"
    }
   ],
   "source": [
    "import matplotlib.pyplot as plt\n",
    "#A line plot for \"Value\" over time\n",
    "df['Value'].plot(title='Time Series Data', xlabel='Date', ylabel='Value')\n",
    "plt.show()"
   ]
  }
 ],
 "metadata": {
  "kernelspec": {
   "display_name": "Python 3",
   "language": "python",
   "name": "python3"
  },
  "language_info": {
   "codemirror_mode": {
    "name": "ipython",
    "version": 3
   },
   "file_extension": ".py",
   "mimetype": "text/x-python",
   "name": "python",
   "nbconvert_exporter": "python",
   "pygments_lexer": "ipython3",
   "version": "3.13.1"
  }
 },
 "nbformat": 4,
 "nbformat_minor": 2
}
